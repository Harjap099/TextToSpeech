{
 "cells": [
  {
   "cell_type": "code",
   "execution_count": 1,
   "metadata": {},
   "outputs": [],
   "source": [
    "#TextToSpeech Project                  #*Internet Required*"
   ]
  },
  {
   "cell_type": "code",
   "execution_count": 2,
   "metadata": {},
   "outputs": [],
   "source": [
    "#Importing the Required Libraries\n",
    "\n",
    "import win32com.client as wincl\n",
    "from tkinter import *\n",
    "\n",
    "#Defining TextToSpeech\n",
    "def text2speech():\n",
    "    text = e.get()\n",
    "    speak = wincl.Dispatch(\"SAPI.Spvoice\")   #SAPI is the name of the voice.\n",
    "    speak.Speak(text)\n",
    "\n",
    "#For the additional dialog box which appears on the runtime.\n",
    "\n",
    "tts= Tk()\n",
    "tts.wm_title(\"Text to Speech\")\n",
    "tts.geometry(\"225x105\")                     \n",
    "tts.config(background = \"#708090\")\n",
    "\n",
    "f= Frame(tts,height= 280,width= 500, bg= \"#bebebe\")\n",
    "f.grid(row=0, column=0,padx=10,pady=5)\n",
    "lbl= Label(f,text= \"Enter your text here:  \")\n",
    "lbl.grid(row= 1,column= 0,padx= 10,pady= 2)                             #Appearance of the dialog box.\n",
    "e= Entry(f,width= 30)\n",
    "e.grid(row= 2, column= 0, padx= 10,pady=2)\n",
    "btn= Button(f, text=\"Speak\", command= text2speech)\n",
    "btn.grid(row=3,column=0,padx=20,pady=10)\n",
    "tts.mainloop()\n",
    "\n",
    "\n"
   ]
  },
  {
   "cell_type": "code",
   "execution_count": 3,
   "metadata": {},
   "outputs": [],
   "source": [
    "#However, we can also make several changes to this file.\n",
    "#What I did is:\n",
    "\n",
    "#1. Made it's vice versa i.e Speech to Text. (Check the other Repository).\n",
    "#2. Algorithm Control: By applying the whole Machine Learning Algorithm by just a keyword thing which generally saves much of the times and effort by providing an option to not to write the code."
   ]
  },
  {
   "cell_type": "code",
   "execution_count": null,
   "metadata": {},
   "outputs": [],
   "source": []
  }
 ],
 "metadata": {
  "kernelspec": {
   "display_name": "Python 3",
   "language": "python",
   "name": "python3"
  },
  "language_info": {
   "codemirror_mode": {
    "name": "ipython",
    "version": 3
   },
   "file_extension": ".py",
   "mimetype": "text/x-python",
   "name": "python",
   "nbconvert_exporter": "python",
   "pygments_lexer": "ipython3",
   "version": "3.7.3"
  }
 },
 "nbformat": 4,
 "nbformat_minor": 2
}
